{
 "cells": [
  {
   "cell_type": "code",
   "execution_count": null,
   "metadata": {},
   "outputs": [],
   "source": [
    "# #export\n",
    "# def test_init_matrix(self):\n",
    "#     rows, cols = 5, 4\n",
    "#     matrix = init_matrix(rows, cols)\n",
    "\n",
    "#     self.assertEqual(len(matrix), rows)\n",
    "\n",
    "#     # Check columns\n",
    "#     for row in matrix:\n",
    "#         self.assertEqual(len(row), cols)\n",
    "\n",
    "#     for row in matrix:\n",
    "#         for val in row:\n",
    "#             self.assertGreaterEqual(val, 0)\n",
    "#             self.assertLess(val, 100)"
   ]
  },
  {
   "cell_type": "code",
   "execution_count": 1,
   "metadata": {},
   "outputs": [],
   "source": [
    "# #export\n",
    "# def test_add_matrix_valid(self):\n",
    "#     A = [[1, 2], [3, 4]]\n",
    "#     B = [[5, 6], [7, 8]]\n",
    "#     expected = [[6, 8], [10, 12]]\n",
    "#     self.assertEqual(add_matrix(A, B), expected)"
   ]
  },
  {
   "cell_type": "code",
   "execution_count": 2,
   "metadata": {},
   "outputs": [],
   "source": [
    "# #export\n",
    "# def test_add_matrix_mismatched_rows(self):\n",
    "#     A = [[1, 2], [3, 4]]\n",
    "#     B = [[5, 6]]\n",
    "#     with self.assertRaises(ValueError):\n",
    "#         add_matrix(A, B)"
   ]
  },
  {
   "cell_type": "code",
   "execution_count": 3,
   "metadata": {},
   "outputs": [],
   "source": [
    "# #export\n",
    "# def test_add_matrix_mismatched_columns(self):\n",
    "#     A = [[1, 2], [3, 4]]\n",
    "#     B = [[5, 6], [7]]\n",
    "#     with self.assertRaises(ValueError):\n",
    "#         add_matrix(A, B)"
   ]
  },
  {
   "cell_type": "code",
   "execution_count": null,
   "metadata": {},
   "outputs": [],
   "source": [
    "# #export\n",
    "# def test_mul_matrix_valid(self):\n",
    "#      A = [[1, 2],\n",
    "#           [3, 4]]\n",
    "#      B = [[5, 6],\n",
    "#           [7, 8]]\n",
    "#      expected = [[19, 22],\n",
    "#                [43, 50]]\n",
    "#      self.assertEqual(mul_matrix(A, B), expected)"
   ]
  },
  {
   "cell_type": "code",
   "execution_count": null,
   "metadata": {},
   "outputs": [],
   "source": [
    "# #export\n",
    "# def test_mul_matrix_incompatible_dimensions(self):\n",
    "#     A = [[1, 2, 3],\n",
    "#             [4, 5, 6]]\n",
    "#     B = [[7, 8],\n",
    "#             [9, 10]]\n",
    "#     with self.assertRaises(ValueError):\n",
    "#         mul_matrix(A, B)"
   ]
  },
  {
   "cell_type": "code",
   "execution_count": null,
   "metadata": {},
   "outputs": [],
   "source": [
    "# #export\n",
    "# def test_mul_matrix_result_size(self):\n",
    "#     A = [[1, 2, 3]]\n",
    "#     B = [[4],\n",
    "#             [5],\n",
    "#             [6]]\n",
    "#     result = mul_matrix(A, B)\n",
    "#     self.assertEqual(len(result), 1)\n",
    "#     self.assertEqual(len(result[0]), 1)\n",
    "#     self.assertEqual(result[0][0], 1*4 + 2*5 + 3*6)"
   ]
  },
  {
   "cell_type": "code",
   "execution_count": 5,
   "metadata": {},
   "outputs": [],
   "source": [
    "def test_scalar_product_basic(self):\n",
    "        op = Matrix_Operations()\n",
    "        matrix = [[1, 2], [3, 4]]\n",
    "        scalar = 3\n",
    "        expected = [[3, 6], [9, 12]]\n",
    "        result = op.scalar_product(scalar, matrix)\n",
    "        self.assertEqual(result, expected)\n",
    "\n",
    "def test_scalar_product_zero(self):\n",
    "    op = Matrix_Operations()\n",
    "    matrix = [[1, -1], [5, 7]]\n",
    "    scalar = 0\n",
    "    expected = [[0, 0], [0, 0]]\n",
    "    result = op.scalar_product(scalar, matrix)\n",
    "    self.assertEqual(result, expected)\n",
    "\n",
    "def test_scalar_product_negative(self):\n",
    "    op = Matrix_Operations()\n",
    "    matrix = [[2, -3], [-4, 1]]\n",
    "    scalar = -2\n",
    "    expected = [[-4, 6], [8, -2]]\n",
    "    result = op.scalar_product(scalar, matrix)\n",
    "    self.assertEqual(result, expected)"
   ]
  },
  {
   "cell_type": "code",
   "execution_count": 6,
   "metadata": {},
   "outputs": [],
   "source": [
    "def test_transpose_square_matrix(self):\n",
    "    op = Matrix_Operations()\n",
    "    matrix = [[1, 2], [3, 4]]\n",
    "    expected = [[1, 3], [2, 4]]\n",
    "    self.assertEqual(op.transpose(matrix), expected)\n",
    "\n",
    "def test_transpose_rectangle_matrix(self):\n",
    "    op = Matrix_Operations()\n",
    "    matrix = [[1, 2, 3], [4, 5, 6]]\n",
    "    expected = [[1, 4], [2, 5], [3, 6]]\n",
    "    self.assertEqual(op.transpose(matrix), expected)\n",
    "\n",
    "def test_transpose_single_row(self):\n",
    "    op = Matrix_Operations()\n",
    "    matrix = [[1, 2, 3]]\n",
    "    expected = [[1], [2], [3]]\n",
    "    self.assertEqual(op.transpose(matrix), expected)\n",
    "\n",
    "def test_transpose_single_column(self):\n",
    "    op = Matrix_Operations()\n",
    "    matrix = [[1], [2], [3]]\n",
    "    expected = [[1, 2, 3]]\n",
    "    self.assertEqual(op.transpose(matrix), expected)\n",
    "\n",
    "def test_transpose_empty_matrix(self):\n",
    "    op = Matrix_Operations()\n",
    "    matrix = []\n",
    "    expected = []\n",
    "    self.assertEqual(op.transpose(matrix), expected)"
   ]
  },
  {
   "cell_type": "code",
   "execution_count": 7,
   "metadata": {},
   "outputs": [],
   "source": [
    "def test_identity_matrix_2x2(self):\n",
    "    op = Matrix_Operations()\n",
    "    matrix = [[1, 0], [0, 1]]\n",
    "    self.assertTrue(op.is_identity(matrix))\n",
    "\n",
    "def test_identity_matrix_3x3(self):\n",
    "    op = Matrix_Operations()\n",
    "    matrix = [[1, 0, 0],\n",
    "                [0, 1, 0],\n",
    "                [0, 0, 1]]\n",
    "    self.assertTrue(op.is_identity(matrix))\n",
    "\n",
    "def test_non_identity_wrong_diagonal(self):\n",
    "    op = Matrix_Operations()\n",
    "    matrix = [[2, 0],\n",
    "                [0, 1]]\n",
    "    self.assertFalse(op.is_identity(matrix))\n",
    "\n",
    "def test_non_identity_off_diagonal_not_zero(self):\n",
    "    op = Matrix_Operations()\n",
    "    matrix = [[1, 1],\n",
    "                [0, 1]]\n",
    "    self.assertFalse(op.is_identity(matrix))\n",
    "\n",
    "def test_non_square_matrix(self):\n",
    "    op = Matrix_Operations()\n",
    "    matrix = [[1, 0, 0],\n",
    "                [0, 1, 0]]\n",
    "    self.assertFalse(op.is_identity(matrix))\n",
    "\n",
    "def test_empty_matrix(self):\n",
    "    op = Matrix_Operations()\n",
    "    matrix = []\n",
    "    with self.assertRaises(IndexError):\n",
    "        op.is_identity(matrix)"
   ]
  },
  {
   "cell_type": "code",
   "execution_count": null,
   "metadata": {},
   "outputs": [],
   "source": [
    "#export\n",
    "def test_add(self):\n",
    "    op = Matrix_Operations()\n",
    "\n",
    "    for n in [10, 100, 1000, 10000]:\n",
    "\n",
    "        print(f\"{n}x{n} np.array\")\n",
    "        matrix_A = op.init_matrix(n,n, fast=True)\n",
    "        matrix_B = op.init_matrix(n,n, fast=True)\n",
    "        op.add_matrix(matrix_A, matrix_B)\n",
    "        # print(f\"{n}x{n} lists\")\n",
    "        # matrix_A = op.init_matrix(n,n, fast=False)\n",
    "        # matrix_B = op.init_matrix(n,n, fast=False)\n",
    "        # op.add_matrix(matrix_A, matrix_B)"
   ]
  },
  {
   "cell_type": "code",
   "execution_count": null,
   "metadata": {},
   "outputs": [],
   "source": []
  }
 ],
 "metadata": {
  "kernelspec": {
   "display_name": "bigdata",
   "language": "python",
   "name": "python3"
  },
  "language_info": {
   "codemirror_mode": {
    "name": "ipython",
    "version": 3
   },
   "file_extension": ".py",
   "mimetype": "text/x-python",
   "name": "python",
   "nbconvert_exporter": "python",
   "pygments_lexer": "ipython3",
   "version": "3.10.16"
  }
 },
 "nbformat": 4,
 "nbformat_minor": 2
}
